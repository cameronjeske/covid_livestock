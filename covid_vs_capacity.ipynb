{
 "cells": [
  {
   "cell_type": "code",
   "execution_count": 24,
   "id": "cb1b522e",
   "metadata": {},
   "outputs": [],
   "source": [
    "import pandas as pd\n",
    "from sklearn.linear_model import LinearRegression\n",
    "import statsmodels.api as sm"
   ]
  },
  {
   "cell_type": "code",
   "execution_count": 25,
   "id": "7c06d913",
   "metadata": {},
   "outputs": [
    {
     "data": {
      "text/plain": [
       "weekly               0\n",
       "utilization ratio    0\n",
       "dtype: int64"
      ]
     },
     "execution_count": 25,
     "metadata": {},
     "output_type": "execute_result"
    }
   ],
   "source": [
    "sheet = pd.read_csv(r'C:\\Users\\csjes\\Desktop\\covid_vs_capacity.csv')\n",
    "df = pd.DataFrame(sheet, columns = ['weekly', 'utilization ratio'])\n",
    "df.isnull().sum()"
   ]
  },
  {
   "cell_type": "code",
   "execution_count": 26,
   "id": "15e40f13",
   "metadata": {},
   "outputs": [],
   "source": [
    "y = df[['weekly']]\n",
    "X = df['utilization ratio']"
   ]
  },
  {
   "cell_type": "code",
   "execution_count": 27,
   "id": "807e73f9",
   "metadata": {},
   "outputs": [
    {
     "name": "stdout",
     "output_type": "stream",
     "text": [
      "                            OLS Regression Results                            \n",
      "==============================================================================\n",
      "Dep. Variable:                 weekly   R-squared:                       0.001\n",
      "Model:                            OLS   Adj. R-squared:                 -0.007\n",
      "Method:                 Least Squares   F-statistic:                    0.1322\n",
      "Date:                Thu, 14 Jul 2022   Prob (F-statistic):              0.717\n",
      "Time:                        12:58:39   Log-Likelihood:                -1831.7\n",
      "No. Observations:                 123   AIC:                             3667.\n",
      "Df Residuals:                     121   BIC:                             3673.\n",
      "Df Model:                           1                                         \n",
      "Covariance Type:            nonrobust                                         \n",
      "=====================================================================================\n",
      "                        coef    std err          t      P>|t|      [0.025      0.975]\n",
      "-------------------------------------------------------------------------------------\n",
      "const               2.96e+05   7.13e+05      0.415      0.679   -1.11e+06    1.71e+06\n",
      "utilization ratio  2.895e+05   7.96e+05      0.364      0.717   -1.29e+06    1.87e+06\n",
      "==============================================================================\n",
      "Omnibus:                      117.242   Durbin-Watson:                   0.152\n",
      "Prob(Omnibus):                  0.000   Jarque-Bera (JB):             1211.816\n",
      "Skew:                           3.452   Prob(JB):                    7.20e-264\n",
      "Kurtosis:                      16.740   Cond. No.                         22.2\n",
      "==============================================================================\n",
      "\n",
      "Notes:\n",
      "[1] Standard Errors assume that the covariance matrix of the errors is correctly specified.\n"
     ]
    }
   ],
   "source": [
    "X = sm.add_constant(X)\n",
    "results = sm.OLS(y, X).fit()\n",
    "print(results.summary())"
   ]
  },
  {
   "cell_type": "code",
   "execution_count": null,
   "id": "1ec80f02",
   "metadata": {},
   "outputs": [],
   "source": []
  }
 ],
 "metadata": {
  "kernelspec": {
   "display_name": "Python 3.9.12 ('base')",
   "language": "python",
   "name": "python3"
  },
  "language_info": {
   "codemirror_mode": {
    "name": "ipython",
    "version": 3
   },
   "file_extension": ".py",
   "mimetype": "text/x-python",
   "name": "python",
   "nbconvert_exporter": "python",
   "pygments_lexer": "ipython3",
   "version": "3.9.12"
  },
  "vscode": {
   "interpreter": {
    "hash": "6582d9aacd0dc7401298f5a8a5bb6397bff1cf9d99f4570a5bbb2483f843f71c"
   }
  }
 },
 "nbformat": 4,
 "nbformat_minor": 5
}
